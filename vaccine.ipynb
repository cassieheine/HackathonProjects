{
  "nbformat": 4,
  "nbformat_minor": 0,
  "metadata": {
    "colab": {
      "name": "vaccine.ipynb",
      "provenance": [],
      "collapsed_sections": [],
      "toc_visible": true
    },
    "kernelspec": {
      "name": "python3",
      "display_name": "Python 3"
    },
    "accelerator": "GPU"
  },
  "cells": [
    {
      "cell_type": "markdown",
      "metadata": {
        "id": "WZb0Szpj-GjN"
      },
      "source": [
        "Citations:\r\n",
        "* https://realpython.com/python-csv/\r\n",
        "* https://www.geeksforgeeks.org/python-sentiment-analysis-using-vader/"
      ]
    },
    {
      "cell_type": "code",
      "metadata": {
        "id": "ARl1pk1PGL2Y",
        "colab": {
          "base_uri": "https://localhost:8080/"
        },
        "outputId": "da5f31eb-7800-4268-988c-7e3160a98c53"
      },
      "source": [
        "from google.colab import drive\n",
        "import os\n",
        "drive.mount('/content/drive', force_remount=True)\n",
        "\n",
        "train_path = os.path.join(os.getcwd(), \"drive\", \"My Drive\", \"Colab Notebooks\", \"twitter vaccine\", \"vaccination_tweets.csv\")"
      ],
      "execution_count": null,
      "outputs": [
        {
          "output_type": "stream",
          "text": [
            "Mounted at /content/drive\n"
          ],
          "name": "stdout"
        }
      ]
    },
    {
      "cell_type": "code",
      "metadata": {
        "colab": {
          "base_uri": "https://localhost:8080/"
        },
        "id": "1OKgJVn_er3H",
        "outputId": "448ddc28-3152-46a3-89f1-1eeeb5f61f36"
      },
      "source": [
        "pip install vaderSentiment"
      ],
      "execution_count": null,
      "outputs": [
        {
          "output_type": "stream",
          "text": [
            "Collecting vaderSentiment\n",
            "\u001b[?25l  Downloading https://files.pythonhosted.org/packages/76/fc/310e16254683c1ed35eeb97386986d6c00bc29df17ce280aed64d55537e9/vaderSentiment-3.3.2-py2.py3-none-any.whl (125kB)\n",
            "\r\u001b[K     |██▋                             | 10kB 25.2MB/s eta 0:00:01\r\u001b[K     |█████▏                          | 20kB 14.5MB/s eta 0:00:01\r\u001b[K     |███████▉                        | 30kB 12.7MB/s eta 0:00:01\r\u001b[K     |██████████▍                     | 40kB 12.1MB/s eta 0:00:01\r\u001b[K     |█████████████                   | 51kB 8.3MB/s eta 0:00:01\r\u001b[K     |███████████████▋                | 61kB 7.7MB/s eta 0:00:01\r\u001b[K     |██████████████████▏             | 71kB 8.7MB/s eta 0:00:01\r\u001b[K     |████████████████████▉           | 81kB 9.6MB/s eta 0:00:01\r\u001b[K     |███████████████████████▍        | 92kB 10.1MB/s eta 0:00:01\r\u001b[K     |██████████████████████████      | 102kB 8.0MB/s eta 0:00:01\r\u001b[K     |████████████████████████████▋   | 112kB 8.0MB/s eta 0:00:01\r\u001b[K     |███████████████████████████████▏| 122kB 8.0MB/s eta 0:00:01\r\u001b[K     |████████████████████████████████| 133kB 8.0MB/s \n",
            "\u001b[?25hRequirement already satisfied: requests in /usr/local/lib/python3.6/dist-packages (from vaderSentiment) (2.23.0)\n",
            "Requirement already satisfied: certifi>=2017.4.17 in /usr/local/lib/python3.6/dist-packages (from requests->vaderSentiment) (2020.12.5)\n",
            "Requirement already satisfied: idna<3,>=2.5 in /usr/local/lib/python3.6/dist-packages (from requests->vaderSentiment) (2.10)\n",
            "Requirement already satisfied: chardet<4,>=3.0.2 in /usr/local/lib/python3.6/dist-packages (from requests->vaderSentiment) (3.0.4)\n",
            "Requirement already satisfied: urllib3!=1.25.0,!=1.25.1,<1.26,>=1.21.1 in /usr/local/lib/python3.6/dist-packages (from requests->vaderSentiment) (1.24.3)\n",
            "Installing collected packages: vaderSentiment\n",
            "Successfully installed vaderSentiment-3.3.2\n"
          ],
          "name": "stdout"
        }
      ]
    },
    {
      "cell_type": "code",
      "metadata": {
        "id": "quIJujja-jS2"
      },
      "source": [
        "import csv\n",
        "import pandas as pd\n",
        "# import json\n",
        "# import math\n",
        "# import os\n",
        "# from pathlib import Path\n",
        "# import random\n",
        "# import time\n",
        "# from tqdm.notebook import tqdm, trange\n",
        "# from typing import Dict, List, Set, Tuple\n",
        "\n",
        "# import numpy as np\n",
        "# import torch\n",
        "# import torch.nn as nn\n",
        "# from torch.nn import init\n",
        "# import torch.optim as optim\n",
        "# from torch.utils.data import Dataset, DataLoader, SubsetRandomSampler\n",
        "# from tqdm.notebook import tqdm, trange"
      ],
      "execution_count": null,
      "outputs": []
    },
    {
      "cell_type": "code",
      "metadata": {
        "id": "CP5Rklb1AOqf"
      },
      "source": [
        "with open(train_path) as csv_file:\r\n",
        "    df = pd.read_csv(csv_file)\r\n",
        "df_clean = df.drop(axis = 1, columns = ['id', 'user_name', 'user_location', 'user_description', 'user_created',\r\n",
        "       'user_followers', 'user_friends', 'user_favourites', 'user_verified',\r\n",
        "       'date', 'text', 'hashtags', 'source', 'retweets', 'favorites',\r\n",
        "       'is_retweet'])\r\n",
        "df_clean = df_clean.dropna()\r\n"
      ],
      "execution_count": null,
      "outputs": []
    },
    {
      "cell_type": "code",
      "metadata": {
        "colab": {
          "base_uri": "https://localhost:8080/"
        },
        "id": "qC6QJAO2HXpH",
        "outputId": "83b647a0-48ac-48a9-f636-cb868fabc39d"
      },
      "source": [
        "# import SentimentIntensityAnalyzer class \r\n",
        "# from vaderSentiment.vaderSentiment module. \r\n",
        "from vaderSentiment.vaderSentiment import SentimentIntensityAnalyzer \r\n",
        "  \r\n",
        "# function to print sentiments \r\n",
        "# of the sentence. \r\n",
        "def sentiment_scores(sentence): \r\n",
        "  \r\n",
        "    # Create a SentimentIntensityAnalyzer object. \r\n",
        "    sid_obj = SentimentIntensityAnalyzer() \r\n",
        "  \r\n",
        "    # polarity_scores method of SentimentIntensityAnalyzer \r\n",
        "    # oject gives a sentiment dictionary. \r\n",
        "    # which contains pos, neg, neu, and compound scores. \r\n",
        "    sentiment_dict = sid_obj.polarity_scores(sentence) \r\n",
        "    return sentiment_dict['compound']\r\n",
        "  \r\n",
        "  \r\n",
        "    \r\n",
        "# Driver code \r\n",
        "import numpy as np\r\n",
        "if __name__ == \"__main__\" : \r\n",
        "    sid_obj = SentimentIntensityAnalyzer() \r\n",
        "    df_new = pd.DataFrame(data = ((sid_obj.polarity_scores(i).get('compound') for i in df['text']),(i for i in df['id'])))\r\n",
        "    df_new = df_new.transpose()\r\n",
        "    df_new.columns = ['compound_sentiment', 'id']\r\n",
        "    df_final = pd.merge(df, df_new, on =  \"id\")\r\n",
        "    print(df_final.keys())\r\n",
        "    \r\n",
        "    \r\n"
      ],
      "execution_count": null,
      "outputs": [
        {
          "output_type": "stream",
          "text": [
            "Index(['id', 'user_name', 'user_location', 'user_description', 'user_created',\n",
            "       'user_followers', 'user_friends', 'user_favourites', 'user_verified',\n",
            "       'date', 'text', 'hashtags', 'source', 'retweets', 'favorites',\n",
            "       'is_retweet', 'compound_sentiment'],\n",
            "      dtype='object')\n"
          ],
          "name": "stdout"
        }
      ]
    },
    {
      "cell_type": "code",
      "metadata": {
        "id": "dE_tGTicXNq_"
      },
      "source": [
        "compression_opts = dict(method='zip',archive_name='vaccine.csv')\r\n",
        "df_final.to_csv('vaccine2.zip', index=False, compression=compression_opts)  "
      ],
      "execution_count": null,
      "outputs": []
    }
  ]
}